{
 "cells": [
  {
   "cell_type": "code",
   "execution_count": 2,
   "id": "b6d6d921-8f24-4731-bd50-99676cd3b2cf",
   "metadata": {},
   "outputs": [],
   "source": [
    "#ASSIGNMENT QUESTIONS\n"
   ]
  },
  {
   "cell_type": "code",
   "execution_count": 3,
   "id": "278231d7-9ef9-497a-ad27-f81dc2e3f343",
   "metadata": {},
   "outputs": [],
   "source": [
    "01. Who developed python programming language?"
   ]
  },
  {
   "cell_type": "code",
   "execution_count": null,
   "id": "bd801c75-e4e7-4889-a2d1-bc61e3df5a4b",
   "metadata": {},
   "outputs": [],
   "source": [
    "Python programming language was created by Guido van Rossum in the late 1980s.\n",
    "He started working on Python in December 1989, and the first version of Python,\n",
    "version 0.9.0, was released in February 1991."
   ]
  },
  {
   "cell_type": "code",
   "execution_count": null,
   "id": "2010d377-5104-44fa-8254-7dbdef5e7450",
   "metadata": {},
   "outputs": [],
   "source": []
  },
  {
   "cell_type": "code",
   "execution_count": 4,
   "id": "5563a573-8d90-4793-a6e8-25cde520389c",
   "metadata": {},
   "outputs": [],
   "source": [
    "02. Which type of programming does python support?"
   ]
  },
  {
   "cell_type": "code",
   "execution_count": null,
   "id": "92dde8b6-590e-4505-a084-6e14ef16736a",
   "metadata": {},
   "outputs": [],
   "source": [
    "Python supports multiple programming paradigms, including:\n",
    "\n",
    "1. Procedural programming: Python allows you to write programs using a procedural programming style,\n",
    "where you write a sequence of instructions that are executed in a specific order.\n",
    "\n",
    "2. Object-oriented programming (OOP): Python supports OOP, which allows you to write programs using objects\n",
    "that have attributes and methods. OOP is useful for organizing and structuring code, and for creating reusable code.\n",
    "\n",
    "3. Functional programming: Python supports functional programming, where functions are treated as first-class objects \n",
    "and can be passed as arguments, returned as values, or stored in variables.\n",
    "\n",
    "4. Scripting: Python is often used as a scripting language, which means it is used to write scripts that automate tasks\n",
    "and perform system administration tasks.\n"
   ]
  },
  {
   "cell_type": "code",
   "execution_count": null,
   "id": "6e290eaf-fbf8-40ae-8989-ce5210c21190",
   "metadata": {},
   "outputs": [],
   "source": []
  },
  {
   "cell_type": "code",
   "execution_count": null,
   "id": "2bbd7f19-c602-4a6e-859b-45f494d6b15e",
   "metadata": {},
   "outputs": [],
   "source": [
    "03. Is python case sensitive when dealing with identifiers?"
   ]
  },
  {
   "cell_type": "code",
   "execution_count": null,
   "id": "3c4adf10-963c-4db7-868e-ac355f10cf48",
   "metadata": {},
   "outputs": [],
   "source": [
    "Python Identifiers can only contain letters, digits, and underscores.\n",
    "They must start with a letter or an underscore.\n",
    "Python Identifiers cannot be the same as Python keywords.\n",
    "Python Identifiers are case-sensitive, so \"My\" is different from \"mY\" or \"my\".\n",
    "\n",
    "It's important to keep this in mind when writing Python code,\n",
    "as it can lead to bugs and errors if you accidentally use a different case than what you intended for an identifier.\n",
    "It's a good practice to be consistent with your capitalization of identifiers to help avoid these types of errors."
   ]
  },
  {
   "cell_type": "code",
   "execution_count": null,
   "id": "8f3b318c-3b05-427a-a87d-c16248127386",
   "metadata": {},
   "outputs": [],
   "source": []
  },
  {
   "cell_type": "code",
   "execution_count": 5,
   "id": "09de30e7-adc6-4cca-ab03-2bb193717ce6",
   "metadata": {},
   "outputs": [],
   "source": [
    "04. What is the corrrect extension of the python file?"
   ]
  },
  {
   "cell_type": "code",
   "execution_count": null,
   "id": "c5574105-00a7-4207-8a15-050e2d537c55",
   "metadata": {},
   "outputs": [],
   "source": [
    "The correct extension for a Python file is \".py\".\n",
    "\n",
    "    For example, if you have a Python program that you want to save to a file,\n",
    "you should save it with a name that ends in \".py\", such as \"my_program.py\".\n",
    "This helps other programmers and tools identify the file as a Python program."
   ]
  },
  {
   "cell_type": "code",
   "execution_count": null,
   "id": "d3c13b83-656e-4ce4-851b-08eaab409642",
   "metadata": {},
   "outputs": [],
   "source": []
  },
  {
   "cell_type": "code",
   "execution_count": 6,
   "id": "fa3af65f-8514-4859-bfee-f2157903a17e",
   "metadata": {},
   "outputs": [],
   "source": [
    "05. is python code compiled or interpreted?"
   ]
  },
  {
   "cell_type": "code",
   "execution_count": null,
   "id": "a471f804-2eb0-405e-95b2-4d076630e8a4",
   "metadata": {},
   "outputs": [],
   "source": [
    "Python code is interpreted, not compiled.\n",
    "\n",
    "When you run a Python program, the source code is translated into bytecode by the Python interpreter.\n",
    "This bytecode is then executed by the interpreter to produce the output of the program.\n",
    "\n",
    "This is different from compiled languages like C or Java, where the source code is compiled into machine code\n",
    "before it is executed. In a compiled language, the source code is translated into an executable file that can be\n",
    "run directly by the operating system.\n",
    "\n",
    "Because Python is an interpreted language, it can be slower than compiled languages in some cases.\n",
    "However, the interpreter provides a number of benefits, such as the ability to execute code interactively\n",
    "and to easily change code on-the-fly. Additionally, Python provides tools like the \"pyc\" bytecode cache\n",
    "and just-in-time (JIT) compilers like PyPy to help improve performance."
   ]
  },
  {
   "cell_type": "code",
   "execution_count": null,
   "id": "3666a285-b2df-47f2-90a5-8b03727d9c4a",
   "metadata": {},
   "outputs": [],
   "source": []
  },
  {
   "cell_type": "code",
   "execution_count": 7,
   "id": "67f712b9-3bec-42ba-9b45-232886c16dfe",
   "metadata": {},
   "outputs": [],
   "source": [
    "06. Name a few blocks of code used to define in python language?"
   ]
  },
  {
   "cell_type": "code",
   "execution_count": null,
   "id": "11167395-f60f-4dbd-8d98-b3be5a3a7143",
   "metadata": {},
   "outputs": [],
   "source": [
    "In Python, blocks of code are defined by their indentation level.\n",
    "Here are a few examples of code blocks in Python:\n",
    "\n",
    "Function definition block: This block of code is used to define a function in Python. It starts with the \"def\" keyword,\n",
    "followed by the function name and a set of parentheses that may contain function arguments. The indented code below the\n",
    "function definition is the body of the function."
   ]
  },
  {
   "cell_type": "code",
   "execution_count": 9,
   "id": "c15bd9e3-34ab-443a-9450-9204b658e8ef",
   "metadata": {},
   "outputs": [],
   "source": [
    "def my_function(arg1, arg2):\n",
    "    # Code block for function body\n",
    "    print(arg1 + arg2)\n"
   ]
  },
  {
   "cell_type": "code",
   "execution_count": null,
   "id": "d696893e-0daf-4511-8d6c-b67f832db5f3",
   "metadata": {},
   "outputs": [],
   "source": [
    "Conditional statement block: This block of code is used to define a conditional statement, such as an \"if\" statement.\n",
    "The indented code below the conditional statement is executed only if the condition is true."
   ]
  },
  {
   "cell_type": "code",
   "execution_count": null,
   "id": "aac32bdc-df58-4bb0-930c-2d6d4d1ff896",
   "metadata": {},
   "outputs": [],
   "source": [
    "if x > 0:\n",
    "    # Code block for if statement\n",
    "    print(\"x is positive\")\n",
    "else:\n",
    "    # Code block for else statement\n",
    "    print(\"x is not positive\")\n"
   ]
  },
  {
   "cell_type": "code",
   "execution_count": null,
   "id": "f5dd1adf-eb9b-457f-af74-1da84ee45b2b",
   "metadata": {},
   "outputs": [],
   "source": [
    "Loop block: This block of code is used to define a loop, such as a \"for\" or \"while\" loop. \n",
    "The indented code below the loop statement is executed repeatedly until the loop condition is false."
   ]
  },
  {
   "cell_type": "code",
   "execution_count": null,
   "id": "b4b62601-9744-442e-b80f-3ec174be7be1",
   "metadata": {},
   "outputs": [],
   "source": [
    "for i in range(10):\n",
    "    # Code block for loop body\n",
    "    print(i)\n"
   ]
  },
  {
   "cell_type": "code",
   "execution_count": null,
   "id": "d89e72e6-886f-43e1-b97e-5a8a2f567a3f",
   "metadata": {},
   "outputs": [],
   "source": []
  },
  {
   "cell_type": "code",
   "execution_count": 11,
   "id": "baeb22a0-d998-4691-a9f0-73a7e15cf65a",
   "metadata": {},
   "outputs": [],
   "source": [
    "07. state a character used to give single-line comments in python?"
   ]
  },
  {
   "cell_type": "code",
   "execution_count": null,
   "id": "42b48408-4695-462a-b41b-0c1f5ed972e0",
   "metadata": {},
   "outputs": [],
   "source": [
    "In Python, the hash symbol (#) is used to create a single-line comment."
   ]
  },
  {
   "cell_type": "code",
   "execution_count": 12,
   "id": "e6456219-15b0-4843-b7d1-13d3d45559ca",
   "metadata": {},
   "outputs": [
    {
     "name": "stdout",
     "output_type": "stream",
     "text": [
      "Hello, world!\n"
     ]
    }
   ],
   "source": [
    "# This is a single-line comment in Python\n",
    "print(\"Hello, world!\") # This line also has a comment\n"
   ]
  },
  {
   "cell_type": "code",
   "execution_count": null,
   "id": "dd87f786-25b6-40e6-93eb-d80837d00b92",
   "metadata": {},
   "outputs": [],
   "source": []
  },
  {
   "cell_type": "code",
   "execution_count": null,
   "id": "1e12365b-a141-4adc-8a40-50961c0e8edd",
   "metadata": {},
   "outputs": [],
   "source": [
    "08. Mention a function which can help us to find the version of python that we are currently working on?"
   ]
  },
  {
   "cell_type": "code",
   "execution_count": null,
   "id": "b2a3872b-3c58-4ab5-abd0-091cdbe7cdbd",
   "metadata": {},
   "outputs": [],
   "source": [
    "To get the Version of the python Interpreter, they are listed as follows:\n",
    "Using sys. version method.\n",
    "Using python_version() function.\n",
    "Using Python -V command."
   ]
  },
  {
   "cell_type": "code",
   "execution_count": null,
   "id": "702e5d0a-ffc5-4a7a-8c97-4d0a9f62a7a0",
   "metadata": {},
   "outputs": [],
   "source": []
  },
  {
   "cell_type": "code",
   "execution_count": null,
   "id": "55dcd914-4c3f-46cc-9afc-f0cc60c0eb22",
   "metadata": {},
   "outputs": [],
   "source": [
    "09. python supports the creation of anonymous fuchtions at runtime, using a construct called _ _ _ _"
   ]
  },
  {
   "cell_type": "code",
   "execution_count": null,
   "id": "10d7dd83-e821-4826-9492-0de7269213e8",
   "metadata": {},
   "outputs": [],
   "source": [
    "Python supports the creation of anonymous functions (i.e. functions that are not bound to a name)\n",
    "at runtime, using a construct called lambda."
   ]
  },
  {
   "cell_type": "code",
   "execution_count": null,
   "id": "a68d935e-4bde-4fa9-9fa0-7fa960de86e8",
   "metadata": {},
   "outputs": [],
   "source": []
  },
  {
   "cell_type": "code",
   "execution_count": null,
   "id": "bb078f0d-8ee6-4185-84e9-23fd1d718780",
   "metadata": {},
   "outputs": [],
   "source": [
    "10. What does pip stand for python?"
   ]
  },
  {
   "cell_type": "code",
   "execution_count": null,
   "id": "0a79173a-20e3-4c3f-a083-743434274a87",
   "metadata": {},
   "outputs": [],
   "source": [
    "PIP stands for \"Pip Installs Packages\" or \"Pip Installs Python\".\n",
    "\n",
    "PIP is the package installer for Python, used to install, upgrade, and manage third-party packages and libraries in Python.\n",
    "It is a command-line tool that is used to interact with the Python Package Index (PyPI) to download and install Python \n",
    "packages and their dependencies.\n",
    "\n",
    "When you install Python, PIP is usually installed by default. You can check if PIP is installed on your system by\n",
    "running the \"pip\" command in your terminal or command prompt."
   ]
  },
  {
   "cell_type": "code",
   "execution_count": null,
   "id": "5d7fb9dc-3649-4619-8e0a-8dd2efa70882",
   "metadata": {},
   "outputs": [],
   "source": []
  },
  {
   "cell_type": "code",
   "execution_count": null,
   "id": "c13b1a84-4ef2-478e-af23-04408edb7b69",
   "metadata": {},
   "outputs": [],
   "source": [
    "11. mention a few built-in functions in python?"
   ]
  },
  {
   "cell_type": "code",
   "execution_count": null,
   "id": "05786c70-6cef-4161-baf6-50b166563d9e",
   "metadata": {},
   "outputs": [],
   "source": [
    "Python comes with a large number of built-in functions that are available to use without the need for importing\n",
    "any additional modules or libraries. Here are a few examples of commonly used built-in functions in Python:\n",
    "\n",
    "print() - used to display output to the console\n",
    "type() - used to determine the type of an object or variable\n",
    "len() - used to get the length of an object, such as a string or list\n",
    "int() - used to convert a value to an integer\n",
    "float() - used to convert a value to a floating-point number\n",
    "str() - used to convert a value to a string\n",
    "input() - used to get user input from the console\n",
    "range() - used to create a sequence of numbers\n",
    "abs() - used to get the absolute value of a number\n",
    "round() - used to round a number to a specified number of decimal places.\n",
    "\n",
    "These are just a few examples of the many built-in functions available in Python.\n",
    "Knowing the built-in functions and how to use them effectively can help you write Python code more\n",
    "efficiently and effectively.\n"
   ]
  },
  {
   "cell_type": "code",
   "execution_count": null,
   "id": "696ae2be-6797-4a96-b498-49c34f184565",
   "metadata": {},
   "outputs": [],
   "source": []
  },
  {
   "cell_type": "code",
   "execution_count": null,
   "id": "77c7d021-e19f-442a-8939-c9133deb4419",
   "metadata": {},
   "outputs": [],
   "source": [
    "12. What is the maximum possible length of an identifier in python?"
   ]
  },
  {
   "cell_type": "code",
   "execution_count": null,
   "id": "37868aed-f306-4e6e-91f0-d5bded9b956d",
   "metadata": {},
   "outputs": [],
   "source": [
    " An identifier can have a maximum length of 79 characters in Python. Python is one of the most popular programming languages."
   ]
  },
  {
   "cell_type": "code",
   "execution_count": null,
   "id": "27cbf3a6-379a-447f-8497-153f9817db30",
   "metadata": {},
   "outputs": [],
   "source": []
  },
  {
   "cell_type": "code",
   "execution_count": null,
   "id": "f4381dbc-f281-42fa-8fd2-386241d6480c",
   "metadata": {},
   "outputs": [],
   "source": [
    "13. what are the benefits of using python?"
   ]
  },
  {
   "cell_type": "code",
   "execution_count": null,
   "id": "7a6a285f-7e41-4aa0-8abb-6eac1f1abcd4",
   "metadata": {},
   "outputs": [],
   "source": []
  },
  {
   "cell_type": "code",
   "execution_count": null,
   "id": "aa0e51c6-e96a-4196-84b2-c2a4156f5ac1",
   "metadata": {},
   "outputs": [],
   "source": [
    "Python is a popular programming language that offers a wide range of benefits. Some of the key benefits of using Python\n",
    "include:\n",
    "\n",
    "Easy to learn: Python has a simple and easy-to-learn syntax that is designed to be user-friendly and intuitive, making it \n",
    "an ideal language for beginners.\n",
    "\n",
    "Wide range of applications: Python can be used for a wide range of applications, including web development, scientific\n",
    "computing, data analysis, artificial intelligence, machine learning, and more.\n",
    "\n",
    "Large community: Python has a large and active community of developers who contribute to open source projects, share \n",
    "knowledge and resources, and provide support to one another.\n",
    "\n",
    "Cross-platform compatibility: Python code can run on different operating systems, such as Windows, Mac, and Linux, without\n",
    "requiring any changes to the code.\n",
    "\n",
    "Extensive library support: Python has a large number of built-in libraries and modules that can be used to perform a wide\n",
    "range of tasks, such as data analysis, scientific computing, web development, and more.\n",
    "\n",
    "High productivity: Python is a high-level language that requires less code to perform tasks compared to other languages,\n",
    "which can lead to increased productivity and faster development times.\n",
    "\n",
    "Flexibility: Python is a versatile language that can be used for a wide range of applications and can easily be integrated\n",
    "with other programming languages.\n",
    "\n",
    "These are just a few of the many benefits of using Python. With its ease of use, wide range of applications, and active\n",
    "community, Python is a popular choice for many developers and organizations.\n",
    "\n",
    "\n",
    "\n"
   ]
  },
  {
   "cell_type": "code",
   "execution_count": null,
   "id": "92bad769-014d-4b6c-bf3e-f96dce52f940",
   "metadata": {},
   "outputs": [],
   "source": []
  },
  {
   "cell_type": "code",
   "execution_count": null,
   "id": "5c579588-e474-4fcf-b1cf-1179ddcc0df5",
   "metadata": {},
   "outputs": [],
   "source": [
    "14. How is memory managed in python?"
   ]
  },
  {
   "cell_type": "code",
   "execution_count": null,
   "id": "514ff00c-f79f-4301-8998-8ab6a8e9fa8d",
   "metadata": {},
   "outputs": [],
   "source": [
    "Memory management in Python is handled by the Python interpreter using a combination of reference counting and a garbage\n",
    "collector.\n",
    "\n",
    "Reference counting is a technique used by Python to keep track of the number of references to an object. Whenever an \n",
    "object is created, its reference count is set to 1. Each time a variable refers to the object, the reference count is\n",
    "incremented by 1. When the variable goes out of scope or is deleted, the reference count is decremented by 1. When the\n",
    "reference count reaches zero, the memory used by the object is released.\n",
    "\n",
    "However, reference counting has some limitations. It can lead to problems with circular references, where objects refer\n",
    "to each other and no longer have any external references, but are still kept in memory due to their internal references. \n",
    "To address this issue, Python also uses a garbage collector that periodically scans the memory to identify and clean up\n",
    "circular references and other objects that are no longer in use.\n",
    "\n",
    "Python's garbage collector uses a generational approach, where objects are divided into three generations based on their\n",
    "age. New objects are placed in the first generation, and as they survive longer, they are moved to the second and third\n",
    "generations. The garbage collector is more aggressive in cleaning up objects in the younger generations, since objects\n",
    "that survive longer are less likely to be garbage.\n",
    "\n",
    "In summary, memory management in Python is handled by a combination of reference counting and garbage collection.\n",
    "The use of these techniques allows Python to manage memory efficiently and automatically, reducing the likelihood\n",
    "of memory leaks and other memory-related issues.\n",
    "\n",
    "\n",
    "\n"
   ]
  },
  {
   "cell_type": "code",
   "execution_count": null,
   "id": "f182635f-6b18-4e5d-9c5a-e199aa90cc01",
   "metadata": {},
   "outputs": [],
   "source": []
  },
  {
   "cell_type": "code",
   "execution_count": null,
   "id": "c9c03c6b-0975-48e8-9820-d49775f47ce1",
   "metadata": {},
   "outputs": [],
   "source": [
    "15. How to install python on windows and set path variables?"
   ]
  },
  {
   "cell_type": "code",
   "execution_count": null,
   "id": "37de0ff5-a8de-4d32-84b2-3770c5954271",
   "metadata": {},
   "outputs": [],
   "source": [
    "To install Python on Windows and set path variables, follow these steps:\n",
    "\n",
    "Download the latest version of Python from the official Python website (https://www.python.org/downloads/).\n",
    "\n",
    "Run the downloaded installer and follow the on-screen instructions to install Python. Make sure to select the\n",
    "\"Add Python to PATH\" option during the installation process.\n",
    "\n",
    "After the installation is complete, open the \"System Properties\" window by pressing the \"Windows key + Pause/Break\" \n",
    "or by right-clicking on \"This PC\" and selecting \"Properties\".\n",
    "\n",
    "In the \"System Properties\" window, click on the \"Advanced system settings\" link on the left-hand side.\n",
    "\n",
    "In the \"System Properties\" window, click on the \"Environment Variables\" button.\n",
    "\n",
    "Under \"User variables\" or \"System variables\", find the \"Path\" variable and click on the \"Edit\" button.\n",
    "\n",
    "In the \"Edit environment variable\" window, click on the \"New\" button and add the path to the Python installation \n",
    "directory (usually \"C:\\Python3x\", where \"x\" is the version number of Python that you installed).\n",
    "\n",
    "Click \"OK\" to close all the windows.\n",
    "\n",
    "Open the Command Prompt and type \"python\" to verify that Python is installed and the path variable is set up correctly. \n",
    "If the Python version number and other information are displayed, then the installation was successful.\n",
    "\n",
    "That's it! You have successfully installed Python on Windows and set up the path variables.\n",
    "You can now start writing and running Python programs on your Windows computer."
   ]
  },
  {
   "cell_type": "code",
   "execution_count": null,
   "id": "308f19dd-b108-4c42-82e8-ab05a9d6664e",
   "metadata": {},
   "outputs": [],
   "source": []
  },
  {
   "cell_type": "code",
   "execution_count": null,
   "id": "699cb9bf-c020-40fc-b45c-6ed5bc4f387c",
   "metadata": {},
   "outputs": [],
   "source": [
    "16. Is indentation required in python?"
   ]
  },
  {
   "cell_type": "code",
   "execution_count": null,
   "id": "0d43f53a-20ff-4044-871c-933d65b62689",
   "metadata": {},
   "outputs": [],
   "source": [
    "Yes, indentation is required in Python. In fact, indentation is a fundamental part of Python's\n",
    "syntax and is used to indicate the block of code that belongs together.\n",
    "\n",
    "In Python, indentation is used to define the scope and hierarchy of statements within a code block.\n",
    "Blocks of code that are at the same level of indentation are considered to be part of the same block. Indentation is typically done using spaces or tabs, and it's important to be consistent in the use of either spaces or tabs throughout your code.\n",
    "\n",
    "Here's an example to illustrate the importance of indentation in Python:"
   ]
  },
  {
   "cell_type": "code",
   "execution_count": null,
   "id": "615488ef-4bd9-4e23-83a6-4796eb68066a",
   "metadata": {},
   "outputs": [],
   "source": [
    "if x > 0:\n",
    "    print(\"x is positive\")   # this line is indented\n",
    "else:\n",
    "    print(\"x is zero or negative\")  # this line is also indented\n"
   ]
  },
  {
   "cell_type": "code",
   "execution_count": null,
   "id": "b4037475-643d-4b98-9e82-88e4d5b4f854",
   "metadata": {},
   "outputs": [],
   "source": []
  }
 ],
 "metadata": {
  "kernelspec": {
   "display_name": "Python 3 (ipykernel)",
   "language": "python",
   "name": "python3"
  },
  "language_info": {
   "codemirror_mode": {
    "name": "ipython",
    "version": 3
   },
   "file_extension": ".py",
   "mimetype": "text/x-python",
   "name": "python",
   "nbconvert_exporter": "python",
   "pygments_lexer": "ipython3",
   "version": "3.10.8"
  }
 },
 "nbformat": 4,
 "nbformat_minor": 5
}
